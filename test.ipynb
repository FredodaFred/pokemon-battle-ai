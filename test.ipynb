{
 "cells": [
  {
   "cell_type": "code",
   "execution_count": 14,
   "metadata": {},
   "outputs": [
    {
     "ename": "ImportError",
     "evalue": "cannot import name 'moves' from 'data' (/Users/fredericksion/Documents/Projects/AIPOKEMONT_test/data.py)",
     "output_type": "error",
     "traceback": [
      "\u001b[0;31m---------------------------------------------------------------------------\u001b[0m",
      "\u001b[0;31mImportError\u001b[0m                               Traceback (most recent call last)",
      "Cell \u001b[0;32mIn[14], line 1\u001b[0m\n\u001b[0;32m----> 1\u001b[0m \u001b[38;5;28;01mfrom\u001b[39;00m \u001b[38;5;21;01mdata\u001b[39;00m \u001b[38;5;28;01mimport\u001b[39;00m moves\n\u001b[1;32m      2\u001b[0m \u001b[38;5;66;03m# class Pokemon:\u001b[39;00m\n\u001b[1;32m      3\u001b[0m \n\u001b[1;32m      4\u001b[0m \u001b[38;5;66;03m#     def __init__(self, pokemon_id):\u001b[39;00m\n\u001b[0;32m   (...)\u001b[0m\n\u001b[1;32m     20\u001b[0m \n\u001b[1;32m     21\u001b[0m \u001b[38;5;66;03m#     bulbasaur = Pokemon(1)\u001b[39;00m\n\u001b[1;32m     23\u001b[0m moves\n",
      "\u001b[0;31mImportError\u001b[0m: cannot import name 'moves' from 'data' (/Users/fredericksion/Documents/Projects/AIPOKEMONT_test/data.py)"
     ]
    }
   ],
   "source": [
    "import data\n",
    "# class Pokemon:\n",
    "\n",
    "#     def __init__(self, pokemon_id):\n",
    "#         assert pokemon_id <= 151, \"Invalid Pokemon ID\"\n",
    "#         self.id = pokemon_id\n",
    "#         self.image = None\n",
    "#         self.hp = pokemon_dict[f'{pokemon_id}'][\"HP\"]\n",
    "#         self.type1 = pokemon_dict[f'{pokemon_id}'][\"Type 1\"]\n",
    "#         self.type2 = pokemon_dict[f'{pokemon_id}'][\"Type 2\"]\n",
    "#         self.attack = pokemon_dict[f'{pokemon_id}'][\"Attack\"]\n",
    "#         self.defense = pokemon_dict[f'{pokemon_id}'][\"Defense\"]\n",
    "#         self.special_attack = pokemon_dict[f'{pokemon_id}'][\"Sp. Attack\"]\n",
    "#         self.special_defense = pokemon_dict[f'{pokemon_id}'][\"Sp. Defense\"]\n",
    "#         self.speed = pokemon_dict[f'{pokemon_id}'][\"Speed\"]\n",
    "\n",
    "#         self.moves = []\n",
    "#         for move in move_sets[pokemon_id]:\n",
    "#             self.moves.append(moves[f'{move}'])\n",
    "\n",
    "#     bulbasaur = Pokemon(1)\n",
    "\n",
    "data.moves"
   ]
  }
 ],
 "metadata": {
  "kernelspec": {
   "display_name": "Python 3.11.2 ('game-env': venv)",
   "language": "python",
   "name": "python3"
  },
  "language_info": {
   "codemirror_mode": {
    "name": "ipython",
    "version": 3
   },
   "file_extension": ".py",
   "mimetype": "text/x-python",
   "name": "python",
   "nbconvert_exporter": "python",
   "pygments_lexer": "ipython3",
   "version": "3.11.2"
  },
  "orig_nbformat": 4,
  "vscode": {
   "interpreter": {
    "hash": "5345f1c68e6d5ccb64173c293f9dd0798703de836cb966ef8778ebd76ef5ac4a"
   }
  }
 },
 "nbformat": 4,
 "nbformat_minor": 2
}
